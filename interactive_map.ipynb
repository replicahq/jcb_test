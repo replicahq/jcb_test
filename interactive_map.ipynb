{
 "cells": [
  {
   "cell_type": "code",
   "execution_count": null,
   "id": "b214bdc5",
   "metadata": {},
   "outputs": [],
   "source": [
    "!pip install ipyleaflet"
   ]
  },
  {
   "cell_type": "code",
   "execution_count": 2,
   "id": "ab25f5d2",
   "metadata": {},
   "outputs": [
    {
     "data": {
      "application/vnd.jupyter.widget-view+json": {
       "model_id": "4f22007f7bb24a58a95c21eefe4d47e9",
       "version_major": 2,
       "version_minor": 0
      },
      "text/plain": [
       "Map(center=[39.8283, -98.5795], controls=(ZoomControl(options=['position', 'zoom_in_text', 'zoom_in_title', 'z…"
      ]
     },
     "metadata": {},
     "output_type": "display_data"
    }
   ],
   "source": [
    "from ipyleaflet import Map, basemaps, basemap_to_tiles, CircleMarker, DrawControl\n",
    "\n",
    "def setup_map():\n",
    "    # Coordinates for the middle of the United States\n",
    "    center_coordinates = (39.8283, -98.5795)\n",
    "\n",
    "    # Create the map with the specified center and zoom level\n",
    "    m = Map(basemap=basemaps.OpenStreetMap.Mapnik, center=center_coordinates, zoom=4)\n",
    "\n",
    "    # Create a draw control for drawing shapes (including circles without markers)\n",
    "    draw_control = DrawControl(\n",
    "        polygon={\"shapeOptions\": {\"fillColor\": \"#6be5c3\", \"color\": \"#6be5c3\", \"fillOpacity\": 1.0}},\n",
    "        rectangle={\"shapeOptions\": {\"fillColor\": \"#fca45d\", \"color\": \"#fca45d\", \"fillOpacity\": 1.0}},\n",
    "        polyline={},\n",
    "        circlemarker={},\n",
    "    )\n",
    "\n",
    "    # Add the draw control to the map\n",
    "    m.add_control(draw_control)\n",
    "\n",
    "    # Create a function to handle drawn shapes\n",
    "    def handle_draw(self, action, geo_json):\n",
    "        if action == \"created\":\n",
    "            geometry = geo_json['geometry']\n",
    "            print(\"Shape Geometry:\", geometry)\n",
    "\n",
    "    # Attach the event handler to the draw control\n",
    "    draw_control.on_draw(handle_draw)\n",
    "\n",
    "    return m\n",
    "\n",
    "# Display the map by calling the setup_map function\n",
    "map_instance = setup_map()\n",
    "map_instance\n"
   ]
  },
  {
   "cell_type": "code",
   "execution_count": null,
   "id": "08a05852",
   "metadata": {},
   "outputs": [],
   "source": []
  }
 ],
 "metadata": {
  "kernelspec": {
   "display_name": "Python 3 (ipykernel)",
   "language": "python",
   "name": "python3"
  },
  "language_info": {
   "codemirror_mode": {
    "name": "ipython",
    "version": 3
   },
   "file_extension": ".py",
   "mimetype": "text/x-python",
   "name": "python",
   "nbconvert_exporter": "python",
   "pygments_lexer": "ipython3",
   "version": "3.10.11"
  }
 },
 "nbformat": 4,
 "nbformat_minor": 5
}
